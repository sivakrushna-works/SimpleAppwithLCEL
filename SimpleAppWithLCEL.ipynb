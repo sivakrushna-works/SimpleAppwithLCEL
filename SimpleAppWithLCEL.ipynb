{
 "cells": [
  {
   "cell_type": "code",
   "execution_count": 4,
   "metadata": {},
   "outputs": [
    {
     "data": {
      "text/plain": [
       "True"
      ]
     },
     "execution_count": 4,
     "metadata": {},
     "output_type": "execute_result"
    }
   ],
   "source": [
    "import os\n",
    "from dotenv import load_dotenv\n",
    "load_dotenv()"
   ]
  },
  {
   "cell_type": "code",
   "execution_count": 5,
   "metadata": {},
   "outputs": [],
   "source": [
    "from langchain_groq import ChatGroq\n",
    "groq_api_key = os.getenv(\"GROQ_API_KEY\")\n",
    "model = ChatGroq(api_key=groq_api_key, model=\"gemma2-9b-it\")\n"
   ]
  },
  {
   "cell_type": "code",
   "execution_count": 9,
   "metadata": {},
   "outputs": [
    {
     "data": {
      "text/plain": [
       "AIMessage(content='There doesn\\'t seem to be any widely recognized programming language or expression language called \"langchian\". \\n\\nIt\\'s possible:\\n\\n* **It\\'s a niche or internal language:** Some companies or projects develop their own specialized languages that aren\\'t widely known.\\n* **It\\'s a misspelling:** Perhaps you meant a different language with a similar name. Can you double-check the spelling?\\n* **It\\'s a new language:**  New languages are constantly being created. If it\\'s very new, it might not have much information available online yet.\\n\\nIf you can provide more context about where you encountered this term or what you\\'re trying to achieve, I might be able to help further! \\n\\n\\nLet me know if you have any other details. \\n', additional_kwargs={}, response_metadata={'token_usage': {'completion_tokens': 166, 'prompt_tokens': 18, 'total_tokens': 184, 'completion_time': 0.301818182, 'prompt_time': 0.002061846, 'queue_time': 0.233094959, 'total_time': 0.303880028}, 'model_name': 'gemma2-9b-it', 'system_fingerprint': 'fp_10c08bf97d', 'finish_reason': 'stop', 'logprobs': None}, id='run-ac11d3df-036e-4f52-b6b2-b6c612dc3f3e-0', usage_metadata={'input_tokens': 18, 'output_tokens': 166, 'total_tokens': 184})"
      ]
     },
     "execution_count": 9,
     "metadata": {},
     "output_type": "execute_result"
    }
   ],
   "source": [
    "model.invoke(\"What is the langchian expression language?\") # LCEL = LangChain Embedding Layer"
   ]
  },
  {
   "cell_type": "code",
   "execution_count": 11,
   "metadata": {},
   "outputs": [
    {
     "name": "stdout",
     "output_type": "stream",
     "text": [
      "హలో, ఎలా ఉన్నారు? \n",
      "\n",
      "(Halo, ela unnaru?) \n",
      "\n",
      "\n",
      "Let me know if you have any other phrases you'd like to translate! 😊 \n",
      "\n"
     ]
    }
   ],
   "source": [
    "# using sytem message and human message\n",
    "from langchain_core.messages import SystemMessage, HumanMessage\n",
    "\n",
    "message = [\n",
    "    SystemMessage(content=\"Convert the following message from Engish to Telugu.\"),\n",
    "    HumanMessage(content=\"Hello, How are you?\")\n",
    "]\n",
    "response = model.invoke(message)\n",
    "print(response.content)"
   ]
  },
  {
   "cell_type": "code",
   "execution_count": 12,
   "metadata": {},
   "outputs": [
    {
     "name": "stdout",
     "output_type": "stream",
     "text": [
      "మీకు నమస్కారం, ఎలా ఉన్నారు? \n",
      "\n",
      "(Mēku namaskaram, elā unnaru?) \n",
      "\n",
      "\n",
      "Let me know if you have any other phrases you'd like translated! 😊 \n",
      "\n"
     ]
    }
   ],
   "source": [
    "# use string output parser and chain \n",
    "from langchain_core.output_parsers import StrOutputParser\n",
    "parser = StrOutputParser()\n",
    "chain = model|parser\n",
    "response = chain.invoke(message)\n",
    "print(response)"
   ]
  },
  {
   "cell_type": "code",
   "execution_count": null,
   "metadata": {},
   "outputs": [
    {
     "data": {
      "text/plain": [
       "'The Telugu translation of \"Hello, How are you?\" is:\\n\\n**హలో, మీరు ఎలా ఉన్నారు?** (Halo, meeru ela unnaru?)\\n\\n\\nLet me know if you have any other phrases you\\'d like to translate! \\n'"
      ]
     },
     "execution_count": 14,
     "metadata": {},
     "output_type": "execute_result"
    }
   ],
   "source": [
    "# use promt template instead of system message\n",
    "from langchain_core.prompts import ChatPromptTemplate\n",
    "promt = ChatPromptTemplate.from_messages([\n",
    "    (\"system\", \"Convert the following message from Engish to {language}.\"),\n",
    "    (\"human\", \"{input}\")\n",
    "])\n",
    "chain = promt | model | parser # chaining the prompt, model and parser\n",
    "\n",
    "response = chain.invoke({\"language\": \"Telugu\", \"input\": \"Hello, How are you?\"})\n",
    "response"
   ]
  }
 ],
 "metadata": {
  "kernelspec": {
   "display_name": "Python 3",
   "language": "python",
   "name": "python3"
  },
  "language_info": {
   "codemirror_mode": {
    "name": "ipython",
    "version": 3
   },
   "file_extension": ".py",
   "mimetype": "text/x-python",
   "name": "python",
   "nbconvert_exporter": "python",
   "pygments_lexer": "ipython3",
   "version": "3.10.0"
  }
 },
 "nbformat": 4,
 "nbformat_minor": 2
}
